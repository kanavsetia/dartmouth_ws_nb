{
 "cells": [
  {
   "cell_type": "markdown",
   "metadata": {},
   "source": [
    "<img src=\"Welcome_qbraid/slide1.png\" height=\"600\" width=\"700\" />"
   ]
  },
  {
   "cell_type": "markdown",
   "metadata": {},
   "source": [
    "<img src=\"Welcome_qbraid/slide2.png\" height=\"600\" width=\"700\" />"
   ]
  },
  {
   "cell_type": "markdown",
   "metadata": {},
   "source": [
    "<img src=\"Welcome_qbraid/slide3.png\" height=\"600\" width=\"700\" />"
   ]
  },
  {
   "cell_type": "markdown",
   "metadata": {},
   "source": [
    "<img src=\"Welcome_qbraid/slide4.png\" height=\"600\" width=\"700\" />"
   ]
  },
  {
   "cell_type": "code",
   "execution_count": 1,
   "metadata": {},
   "outputs": [],
   "source": [
    "import numpy as np\n",
    "\n",
    "#orthogonal vector corresponding to possible outcomes\n",
    "e0 = np.matrix([[1],[0],[0]])\n",
    "e1 = np.matrix([[0],[1],[0]])\n",
    "e2 = np.matrix([[0],[0],[1]])\n",
    "\n",
    "#probabilities of possible outcomes\n",
    "p0 = 0.05\n",
    "p1 = 0.15\n",
    "p2 = 0.8\n",
    "\n",
    "#probability vector\n",
    "p = p0 * e0 + p1 * e1 + p2 * e2\n",
    "\n"
   ]
  },
  {
   "cell_type": "markdown",
   "metadata": {},
   "source": [
    "<img src=\"Welcome_qbraid/slide7.png\" height=\"600\" width=\"700\" />"
   ]
  },
  {
   "cell_type": "markdown",
   "metadata": {},
   "source": [
    "<img src=\"Welcome_qbraid/slide8.png\" height=\"600\" width=\"700\" />"
   ]
  },
  {
   "cell_type": "markdown",
   "metadata": {},
   "source": [
    "<img src=\"Welcome_qbraid/slide9.png\" height=\"600\" width=\"700\" />"
   ]
  },
  {
   "cell_type": "code",
   "execution_count": 4,
   "metadata": {},
   "outputs": [
    {
     "name": "stdout",
     "output_type": "stream",
     "text": [
      "[[0. 1. 0.]\n",
      " [0. 0. 1.]\n",
      " [1. 0. 0.]]\n"
     ]
    }
   ],
   "source": [
    "sig=[2,0,1]\n",
    "\n",
    "\n",
    "#A matrix representation of the permutation\n",
    "P_021=np.matrix(np.zeros((3,3)))\n",
    "P_021[sig[0],0]=1\n",
    "P_021[sig[1],1]=1\n",
    "P_021[sig[2],2]=1\n",
    "\n",
    "print(P_021)"
   ]
  },
  {
   "cell_type": "code",
   "execution_count": 6,
   "metadata": {},
   "outputs": [
    {
     "data": {
      "text/plain": [
       "matrix([[0.15],\n",
       "        [0.8 ],\n",
       "        [0.05]])"
      ]
     },
     "execution_count": 6,
     "metadata": {},
     "output_type": "execute_result"
    }
   ],
   "source": [
    "P_021@p"
   ]
  },
  {
   "cell_type": "markdown",
   "metadata": {},
   "source": [
    "<img src=\"Welcome_qbraid/slide12.png\" height=\"600\" width=\"700\" />"
   ]
  },
  {
   "cell_type": "markdown",
   "metadata": {},
   "source": [
    "<img src=\"Welcome_qbraid/slide13.png\" height=\"600\" width=\"700\" />"
   ]
  },
  {
   "cell_type": "code",
   "execution_count": 8,
   "metadata": {},
   "outputs": [
    {
     "data": {
      "text/plain": [
       "matrix([[0.1  ],\n",
       "        [0.475],\n",
       "        [0.425]])"
      ]
     },
     "execution_count": 8,
     "metadata": {},
     "output_type": "execute_result"
    }
   ],
   "source": [
    "w1=.5\n",
    "w2=1-w1\n",
    "\n",
    "(w1* P_021 + w2 * np.eye(3)) @ p"
   ]
  },
  {
   "cell_type": "markdown",
   "metadata": {},
   "source": [
    "<img src=\"Welcome_qbraid/slide14.png\" height=\"600\" width=\"700\" />"
   ]
  },
  {
   "cell_type": "markdown",
   "metadata": {},
   "source": [
    "<img src=\"Welcome_qbraid/slide15.png\" height=\"600\" width=\"700\" />"
   ]
  },
  {
   "cell_type": "markdown",
   "metadata": {},
   "source": [
    "<img src=\"Welcome_qbraid/slide16.png\" height=\"600\" width=\"700\" />"
   ]
  },
  {
   "cell_type": "markdown",
   "metadata": {},
   "source": [
    "<img src=\"Welcome_qbraid/slide17.png\" height=\"600\" width=\"700\" />"
   ]
  },
  {
   "cell_type": "markdown",
   "metadata": {},
   "source": [
    "<img src=\"Welcome_qbraid/slide19.png\" height=\"600\" width=\"700\" />"
   ]
  },
  {
   "cell_type": "markdown",
   "metadata": {},
   "source": [
    "I now invite the reader to reflect on the following aspects of probability theory before embarking on the extension to quantum.\n",
    "\n",
    "* Meaning of measurement and the subsequent updating of probabilities\n",
    "* Interpretation of the probability function\n",
    "  * The probability function as  knowledge (epistemic)\n",
    "  * The probability function as an actual thing (ontic)"
   ]
  },
  {
   "cell_type": "markdown",
   "metadata": {},
   "source": [
    "<img src=\"Welcome_qbraid/slide18.png\" height=\"600\" width=\"700\" />"
   ]
  },
  {
   "cell_type": "markdown",
   "metadata": {},
   "source": [
    "<img src=\"Welcome_qbraid/slide20.png\" height=\"600\" width=\"700\" />"
   ]
  },
  {
   "cell_type": "code",
   "execution_count": 11,
   "metadata": {},
   "outputs": [
    {
     "name": "stdout",
     "output_type": "stream",
     "text": [
      "[[0.05 0.   0.  ]\n",
      " [0.   0.15 0.  ]\n",
      " [0.   0.   0.8 ]]\n"
     ]
    }
   ],
   "source": [
    "# need to flatten the vector before using diag\n",
    "# if you have numpy array (instead of a vector) \n",
    "# then np.diag will work directly\n",
    "\n",
    "dm_p = np.diagflat(p)\n",
    "\n",
    "print(dm_p)"
   ]
  },
  {
   "cell_type": "markdown",
   "metadata": {},
   "source": [
    "<img src=\"Welcome_qbraid/slide21.png\" height=\"600\" width=\"700\" />"
   ]
  },
  {
   "cell_type": "code",
   "execution_count": 16,
   "metadata": {},
   "outputs": [
    {
     "name": "stdout",
     "output_type": "stream",
     "text": [
      "[[0 1 0]]\n"
     ]
    }
   ],
   "source": [
    "# np matricies have attribute A.H for conjugate transpose\n",
    "# alternatively one can use A.transpose().conjugate \n",
    "\n",
    "#print(e1.conjugate().transpose())\n",
    "print(e1.H)"
   ]
  },
  {
   "cell_type": "markdown",
   "metadata": {},
   "source": [
    "<img src=\"Welcome_qbraid/slide22.png\" height=\"600\" width=\"700\" />"
   ]
  },
  {
   "cell_type": "code",
   "execution_count": 25,
   "metadata": {},
   "outputs": [
    {
     "name": "stdout",
     "output_type": "stream",
     "text": [
      "e1^dag e1 = [[1]]\n",
      " \n",
      "e0^dag e2 = [[0]]\n",
      " \n",
      "e2 e0^dag =\n",
      "[[0 0 0]\n",
      " [0 0 0]\n",
      " [1 0 0]]\n",
      " \n",
      "e0 e2^dag =\n",
      "[[0 0 1]\n",
      " [0 0 0]\n",
      " [0 0 0]]\n"
     ]
    }
   ],
   "source": [
    "# use the @ for matrix multiplication in numpy\n",
    "\n",
    "print(\"e1^dag e1 =\",e1.H @ e1)\n",
    "print(\" \")\n",
    "print(\"e0^dag e2 =\", e0.H @ e2)\n",
    "print(\" \")\n",
    "print(\"e2 e0^dag =\")\n",
    "print(e2 @ e0.H)\n",
    "print(\" \")\n",
    "print(\"e0 e2^dag =\")\n",
    "print(e0 @ e2.H)\n"
   ]
  },
  {
   "cell_type": "markdown",
   "metadata": {},
   "source": [
    "<img src=\"Welcome_qbraid/slide23.png\" height=\"600\" width=\"700\" />"
   ]
  },
  {
   "cell_type": "code",
   "execution_count": 45,
   "metadata": {},
   "outputs": [
    {
     "name": "stdout",
     "output_type": "stream",
     "text": [
      "[0.25, 0.5, 0.15, 0.1]\n",
      " \n",
      "[[0.25 0.   0.   0.  ]\n",
      " [0.   0.5  0.   0.  ]\n",
      " [0.   0.   0.15 0.  ]\n",
      " [0.   0.   0.   0.1 ]]\n"
     ]
    }
   ],
   "source": [
    "p_vec = [.25, .5, .15, .1]\n",
    "L_p = np.diag(p_vec)\n",
    "\n",
    "print(p_vec)\n",
    "print(\" \")\n",
    "print(L_p)"
   ]
  },
  {
   "cell_type": "markdown",
   "metadata": {},
   "source": [
    "<img src=\"Welcome_qbraid/slide26.png\" height=\"600\" width=\"700\" />"
   ]
  },
  {
   "cell_type": "code",
   "execution_count": 59,
   "metadata": {},
   "outputs": [
    {
     "name": "stdout",
     "output_type": "stream",
     "text": [
      "[[ 0.3333+0.j     -0.1417-0.1876j -0.1417+0.1876j]\n",
      " [-0.1417+0.1876j  0.3333+0.j     -0.1417-0.1876j]\n",
      " [-0.1417-0.1876j -0.1417+0.1876j  0.3333+0.j    ]]\n",
      " \n",
      "1.0\n",
      " \n",
      "[0.8  0.05 0.15]\n",
      " \n",
      "[[ 0.+0.j  0.+0.j  0.+0.j]\n",
      " [ 0.+0.j  0.+0.j  0.+0.j]\n",
      " [ 0.+0.j -0.+0.j  0.+0.j]]\n"
     ]
    }
   ],
   "source": [
    "# the unitary Fourier transform matrix\n",
    "from scipy.linalg import dft\n",
    "U=np.matrix(dft(3)/np.sqrt(3))\n",
    "np.set_printoptions(suppress=True,precision=4)\n",
    "\n",
    "#here dm stands for density matrix\n",
    "dm = U @ dm_p @ U.H\n",
    "\n",
    "#check that dm is a valid quantum state\n",
    "print(dm)\n",
    "print(\" \")\n",
    "print(np.trace(dm).real)\n",
    "print(\" \")\n",
    "print(np.linalg.eig(dm)[0].real)\n",
    "print(\" \")\n",
    "print(dm - dm.H)"
   ]
  },
  {
   "cell_type": "markdown",
   "metadata": {},
   "source": [
    "<img src=\"Welcome_qbraid/slide27.png\" height=\"600\" width=\"700\" />"
   ]
  },
  {
   "cell_type": "code",
   "execution_count": 60,
   "metadata": {},
   "outputs": [
    {
     "name": "stdout",
     "output_type": "stream",
     "text": [
      "[[ 0.3333+0.j     -0.1417-0.1876j -0.1417+0.1876j]\n",
      " [-0.1417+0.1876j  0.3333+0.j     -0.1417-0.1876j]\n",
      " [-0.1417-0.1876j -0.1417+0.1876j  0.3333+0.j    ]]\n",
      " \n",
      "[[0.3333+0.j 0.    +0.j 0.    +0.j]\n",
      " [0.    +0.j 0.3333+0.j 0.    +0.j]\n",
      " [0.    +0.j 0.    +0.j 0.3333+0.j]]\n"
     ]
    }
   ],
   "source": [
    "print(dm)\n",
    "print(\" \")\n",
    "print(  (e0 @ e0.H) @ dm @ (e0 @ e0.H) \n",
    "      + (e1 @ e1.H) @ dm @ (e1 @ e1.H) \n",
    "      + (e2 @ e2.H) @ dm @ (e2 @ e2.H))"
   ]
  },
  {
   "cell_type": "markdown",
   "metadata": {},
   "source": [
    "<img src=\"Welcome_qbraid/slide28.png\" height=\"600\" width=\"700\" />"
   ]
  },
  {
   "cell_type": "code",
   "execution_count": 65,
   "metadata": {},
   "outputs": [
    {
     "name": "stdout",
     "output_type": "stream",
     "text": [
      "[[0.15 0.   0.  ]\n",
      " [0.   0.8  0.  ]\n",
      " [0.   0.   0.05]]\n",
      " \n",
      "[[0.15]\n",
      " [0.8 ]\n",
      " [0.05]]\n"
     ]
    }
   ],
   "source": [
    "print(P_021 @ dm_p @ P_021.H)\n",
    "print(\" \")\n",
    "print(P_021 @ p)\n"
   ]
  },
  {
   "cell_type": "markdown",
   "metadata": {},
   "source": [
    "<img src=\"Welcome_qbraid/slide29.png\" height=\"600\" width=\"700\" />"
   ]
  },
  {
   "cell_type": "code",
   "execution_count": 64,
   "metadata": {},
   "outputs": [
    {
     "name": "stdout",
     "output_type": "stream",
     "text": [
      "[[ 1.+0.j -0.+0.j  0.+0.j]\n",
      " [-0.-0.j  1.-0.j -0.+0.j]\n",
      " [ 0.-0.j -0.-0.j  1.-0.j]]\n",
      " \n",
      "[[1. 0. 0.]\n",
      " [0. 1. 0.]\n",
      " [0. 0. 1.]]\n"
     ]
    }
   ],
   "source": [
    "# the unitary Fourier transform matrix\n",
    "from scipy.linalg import dft\n",
    "U=np.matrix(dft(3)/np.sqrt(3))\n",
    "np.set_printoptions(suppress=True,precision=4)\n",
    "\n",
    "# An examples from earlier\n",
    "print(U @ U.H)\n",
    "print(\" \")\n",
    "print(P_021 @ P_021.H)"
   ]
  },
  {
   "cell_type": "markdown",
   "metadata": {},
   "source": [
    "<img src=\"Welcome_qbraid/slide30.png\" height=\"600\" width=\"700\" />"
   ]
  },
  {
   "cell_type": "code",
   "execution_count": 73,
   "metadata": {},
   "outputs": [
    {
     "name": "stdout",
     "output_type": "stream",
     "text": [
      "[[0.1   0.    0.   ]\n",
      " [0.    0.475 0.   ]\n",
      " [0.    0.    0.425]]\n",
      " \n",
      "[[0.1  ]\n",
      " [0.475]\n",
      " [0.425]]\n"
     ]
    }
   ],
   "source": [
    "w1=.5\n",
    "w2=1-w1\n",
    "\n",
    "dm_pf =  w1 * P_021 @ dm_p @ P_021.H\\\n",
    "       + w2 * np.eye(3) @ dm_p @ np.eye(3).T\n",
    "pf    = (w1* P_021 @ p + w2 * np.eye(3) @ p ) \n",
    "\n",
    "print(dm_pf)\n",
    "print(\" \")\n",
    "print(pf)"
   ]
  },
  {
   "cell_type": "markdown",
   "metadata": {},
   "source": [
    "<img src=\"Welcome_qbraid/slide32.png\" height=\"600\" width=\"700\" />"
   ]
  },
  {
   "cell_type": "markdown",
   "metadata": {},
   "source": [
    "<img src=\"Welcome_qbraid/slide33.png\" height=\"600\" width=\"700\" />"
   ]
  },
  {
   "cell_type": "markdown",
   "metadata": {},
   "source": [
    "<img src=\"Welcome_qbraid/slide34.png\" height=\"600\" width=\"700\" />"
   ]
  },
  {
   "cell_type": "markdown",
   "metadata": {},
   "source": [
    "<img src=\"Welcome_qbraid/slide35.png\" height=\"600\" width=\"700\" />"
   ]
  },
  {
   "cell_type": "code",
   "execution_count": 76,
   "metadata": {},
   "outputs": [
    {
     "name": "stdout",
     "output_type": "stream",
     "text": [
      "[[0.+0.j 0.+0.j]\n",
      " [0.+0.j 0.+0.j]]\n",
      " \n",
      "[[0.6508+0.j     0.0437-0.4747j]\n",
      " [0.0437+0.4747j 0.3492+0.j    ]]\n",
      " \n",
      "[[0.6508+0.j 0.    +0.j]\n",
      " [0.    +0.j 0.3492+0.j]]\n"
     ]
    }
   ],
   "source": [
    "#random theta\n",
    "q = np.random.rand() * 2 * np.pi\n",
    "#random phi\n",
    "f = np.random.rand() * 2 * np.pi\n",
    "\n",
    "#the qubit wave function\n",
    "psi = np.matrix( [[ np.cos(q) ] , [np.exp(-1j*f) * np.sin(q)] ] )\n",
    "\n",
    "#quantum state (density matrix)\n",
    "rho = np.matrix([[np.cos(q)**2 , .5 * np.exp(1j * f) * np.sin(2*q)],\n",
    "       [.5 * np.exp(-1j * f) * np.sin(2*q), np.sin(q)**2]])\n",
    "\n",
    "#standard quantum notation\n",
    "ket0 = np.matrix( [[1],[0]])\n",
    "ket1 = np.matrix( [[0],[1]])\n",
    "\n",
    "#should be zero\n",
    "print(psi @ psi.H - rho)\n",
    "print(\" \")\n",
    "print(np.round(rho*10e4)/10e4 )\n",
    "print(\" \")\n",
    "print((ket0 @ ket0.H) @ rho @ (ket0 @ ket0.H) \n",
    "      + (ket1 @ ket1.H) @ rho @ (ket1 @ ket1.H))"
   ]
  },
  {
   "cell_type": "markdown",
   "metadata": {},
   "source": [
    "<img src=\"Welcome_qbraid/slide36.png\" height=\"600\" width=\"700\" />"
   ]
  },
  {
   "cell_type": "markdown",
   "metadata": {},
   "source": [
    "<img src=\"Welcome_qbraid/slide37.png\" height=\"600\" width=\"700\" />"
   ]
  },
  {
   "cell_type": "markdown",
   "metadata": {},
   "source": [
    "<img src=\"Welcome_qbraid/slide38.png\" height=\"600\" width=\"700\" />"
   ]
  },
  {
   "cell_type": "markdown",
   "metadata": {},
   "source": [
    "<img src=\"Welcome_qbraid/slide39.png\" height=\"600\" width=\"700\" />"
   ]
  },
  {
   "cell_type": "markdown",
   "metadata": {},
   "source": [
    "<img src=\"Welcome_qbraid/slide40.png\" height=\"600\" width=\"700\" />"
   ]
  },
  {
   "cell_type": "markdown",
   "metadata": {},
   "source": [
    "<img src=\"Welcome_qbraid/slide41.png\" height=\"600\" width=\"700\" />"
   ]
  }
 ],
 "metadata": {
  "kernelspec": {
   "display_name": "Python 3",
   "language": "python",
   "name": "python3"
  },
  "language_info": {
   "codemirror_mode": {
    "name": "ipython",
    "version": 3
   },
   "file_extension": ".py",
   "mimetype": "text/x-python",
   "name": "python",
   "nbconvert_exporter": "python",
   "pygments_lexer": "ipython3",
   "version": "3.7.6"
  }
 },
 "nbformat": 4,
 "nbformat_minor": 4
}
